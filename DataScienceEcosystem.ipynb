{
 "cells": [
  {
   "cell_type": "markdown",
   "id": "676a53bd-ad81-466c-85a0-e6a30f8803b6",
   "metadata": {},
   "source": [
    "# Data Science Tools and Ecosystem"
   ]
  },
  {
   "cell_type": "markdown",
   "id": "3bc695a5-d69f-4aa2-8598-9f3c32b18282",
   "metadata": {},
   "source": [
    "# In this notebook, Data Science Tools and Ecosystem are summarized."
   ]
  },
  {
   "cell_type": "markdown",
   "id": "5cdb6eea-f6e8-4332-9848-c47f071fae72",
   "metadata": {},
   "source": [
    "# Some of the popular languages that Data Scientists use are:"
   ]
  },
  {
   "cell_type": "markdown",
   "id": "2cd2b8d0-2f1e-404d-80f0-3e7606d0e45a",
   "metadata": {},
   "source": [
    "# ordered list\n",
    "1. Python\n",
    "2. R\n",
    "3. Sql\n",
    "4. Java"
   ]
  },
  {
   "cell_type": "markdown",
   "id": "9f6c9890-7065-4097-8718-a6095e7759c5",
   "metadata": {},
   "source": [
    "# Some of the commonly used libraries used by Data Scientists include:"
   ]
  },
  {
   "cell_type": "markdown",
   "id": "8a8a5c67-0d3b-456d-8203-b3b293224ae5",
   "metadata": {},
   "source": [
    "# ordered list\n",
    "1. numpy\n",
    "2. pandas\n",
    "3. matplotlib\n",
    "4. seaborn\n",
    "5. tenserflow"
   ]
  },
  {
   "cell_type": "markdown",
   "id": "5ea44269-2a50-4418-9161-f394638a268b",
   "metadata": {},
   "source": [
    "# Data Science Tools\n",
    "1. Jupyter notebook\n",
    "2. Rstudio\n",
    "3. spyder"
   ]
  },
  {
   "cell_type": "markdown",
   "id": "08fbfb48-47d7-4658-ba2e-e9e1f904bc82",
   "metadata": {},
   "source": [
    "### Below are a few examples of evaluating arithmetic expressions in Python"
   ]
  },
  {
   "cell_type": "code",
   "execution_count": 3,
   "id": "2a35dc10-5cad-49d8-b4e4-063de697bc94",
   "metadata": {},
   "outputs": [
    {
     "data": {
      "text/plain": [
       "17"
      ]
     },
     "execution_count": 3,
     "metadata": {},
     "output_type": "execute_result"
    }
   ],
   "source": [
    "# This is a simple arithmetic expression to multiply then add integers\n",
    "\n",
    "(3*4)+5"
   ]
  },
  {
   "cell_type": "code",
   "execution_count": 5,
   "id": "724b722e-53b6-46a8-a1dc-b1e6be59575d",
   "metadata": {},
   "outputs": [
    {
     "data": {
      "text/plain": [
       "3.3333333333333335"
      ]
     },
     "execution_count": 5,
     "metadata": {},
     "output_type": "execute_result"
    }
   ],
   "source": [
    "# This will convert 200 minutes to hours by diving by 60\n",
    "200/60"
   ]
  },
  {
   "cell_type": "markdown",
   "id": "94d8b047-a758-40e0-bc5f-74e4d35e1338",
   "metadata": {},
   "source": [
    "**OBJECTIVES:**"
   ]
  },
  {
   "cell_type": "markdown",
   "id": "b932353e-9229-4649-8b13-1c992e170346",
   "metadata": {},
   "source": [
    "# unordered list\n",
    "- popular languages that scientists uses\n",
    "- some comonly used data science labraries\n",
    "- data science tools\n",
    "- arithmetic expressions in python\n",
    "- converting minutes to hours"
   ]
  },
  {
   "cell_type": "markdown",
   "id": "ae88fbe7-7537-40c8-86ad-80d209b0ab6a",
   "metadata": {},
   "source": [
    "# Authors: laxmi holla, nivedhitha pandit\n",
    "lokesh"
   ]
  },
  {
   "cell_type": "code",
   "execution_count": null,
   "id": "e168027b-5edb-43d4-9ee5-4584edaf6106",
   "metadata": {},
   "outputs": [],
   "source": []
  },
  {
   "cell_type": "code",
   "execution_count": null,
   "id": "6498e870-ab46-4f62-8e64-39004aaf160b",
   "metadata": {},
   "outputs": [],
   "source": []
  },
  {
   "cell_type": "code",
   "execution_count": null,
   "id": "3a10d046-a46d-4220-a12e-cf766a592341",
   "metadata": {},
   "outputs": [],
   "source": []
  }
 ],
 "metadata": {
  "kernelspec": {
   "display_name": "Python 3 (ipykernel)",
   "language": "python",
   "name": "python3"
  },
  "language_info": {
   "codemirror_mode": {
    "name": "ipython",
    "version": 3
   },
   "file_extension": ".py",
   "mimetype": "text/x-python",
   "name": "python",
   "nbconvert_exporter": "python",
   "pygments_lexer": "ipython3",
   "version": "3.9.6"
  }
 },
 "nbformat": 4,
 "nbformat_minor": 5
}
